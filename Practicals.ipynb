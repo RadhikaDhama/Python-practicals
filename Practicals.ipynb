{
  "cells": [
    {
      "cell_type": "markdown",
      "metadata": {
        "id": "view-in-github",
        "colab_type": "text"
      },
      "source": [
        "<a href=\"https://colab.research.google.com/github/RadhikaDhama/Python-practicals/blob/main/Practicals.ipynb\" target=\"_parent\"><img src=\"https://colab.research.google.com/assets/colab-badge.svg\" alt=\"Open In Colab\"/></a>"
      ]
    },
    {
      "cell_type": "code",
      "execution_count": null,
      "metadata": {
        "colab": {
          "base_uri": "https://localhost:8080/"
        },
        "id": "U6-L9KwyMSq_",
        "outputId": "f7fcfe8b-46e9-46c0-c029-b87c2155eece"
      },
      "outputs": [
        {
          "name": "stdout",
          "output_type": "stream",
          "text": [
            "enter no.rows:4\n",
            "1\n",
            "21\n",
            "321\n",
            "4321\n"
          ]
        }
      ],
      "source": [
        "#2. Write a Python function to produce the outputs such as:\n",
        "#(a) 1\n",
        "#    21\n",
        "#    321\n",
        "#    4321\n",
        "def main():\n",
        "    n=int(input('enter no.rows:'))\n",
        "    for i in range(0,n):\n",
        "        for j in range(i+1,0,-1):\n",
        "            print(j,end='')\n",
        "        print()\n",
        "if __name__=='__main__':\n",
        "    main()\n"
      ]
    },
    {
      "cell_type": "code",
      "execution_count": null,
      "metadata": {
        "colab": {
          "base_uri": "https://localhost:8080/"
        },
        "id": "rkKmAC_ZN7Pb",
        "outputId": "4392d174-f9ff-4709-ca77-2ad500f76ca2"
      },
      "outputs": [
        {
          "name": "stdout",
          "output_type": "stream",
          "text": [
            "Enter no of rows 4\n",
            "   1\n",
            "  121\n",
            " 12321\n",
            "1234321\n",
            " 12321\n",
            "  121\n",
            "   1\n"
          ]
        }
      ],
      "source": [
        "#b)  1\n",
        "#   121\n",
        "#  12321\n",
        "# 1234321\n",
        "#  12321\n",
        "#   121\n",
        "#    1\n",
        "n = int(input('Enter no of rows '))\n",
        "for i in range(1, n+1):\n",
        "    for j in range(1, n-i+1):\n",
        "        print(end=' ')\n",
        "    for j in range (1, i+ 1):\n",
        "        print(j, end='')\n",
        "    for j in range (i-1, 0, -1):\n",
        "        print(j, end='')\n",
        "    print()\n",
        "for i in range (1,n):\n",
        "    for j in range(1, i+1):\n",
        "        print(end=' ')\n",
        "    for j in range (1, n-i):\n",
        "        print(j, end='')\n",
        "    for j in range (n-i, 0, -1):\n",
        "        print(j, end='')\n",
        "    print()"
      ]
    },
    {
      "cell_type": "code",
      "execution_count": null,
      "metadata": {
        "colab": {
          "base_uri": "https://localhost:8080/"
        },
        "id": "v_emJh5nSb3U",
        "outputId": "24212cd0-b4f7-4928-8939-2b9ef6f505bb"
      },
      "outputs": [
        {
          "name": "stdout",
          "output_type": "stream",
          "text": [
            "485165195.4097903\n",
            "9765625.0\n",
            "47.43416490252569\n",
            "6\n",
            "2.0\n",
            "6\n",
            "50.0\n",
            "0.0\n",
            "0.5004596890082058\n",
            "1.5707963267948966\n",
            "90.0\n",
            "6.283185307179586\n",
            "1.0\n",
            "True\n",
            "False\n",
            "True\n",
            "inf\n"
          ]
        }
      ],
      "source": [
        "# (3)Write a Python program to illustrate the various functions of math module     \n",
        "import math\n",
        "print(math.exp(20))\n",
        "print(math.pow(25,5))\n",
        "print(math.sqrt(2250))\n",
        "print(math.floor(6.325))\n",
        "print(math.log(25,5))\n",
        "print(math.ceil(5.75))\n",
        "print(math.fabs(-50))\n",
        "print(math.log10(1))\n",
        "print(math.cos(3.14/3))\n",
        "print(math.asin(1))\n",
        "print(math.degrees(math.pi/2))\n",
        "print(math.radians(360))\n",
        "print(math.fmod(25,4))\n",
        "print(math.isfinite(67/4))\n",
        "print(math.isinf(-45.8))\n",
        "print(math.isinf(math.inf))\n",
        "print(float(math.inf))"
      ]
    },
    {
      "cell_type": "code",
      "execution_count": null,
      "metadata": {
        "colab": {
          "base_uri": "https://localhost:8080/"
        },
        "id": "NDzeKWx9W5vD",
        "outputId": "1aa57364-4b0d-4671-ac43-479dc31b29e7"
      },
      "outputs": [
        {
          "name": "stdout",
          "output_type": "stream",
          "text": [
            "0\n",
            "sin 0  is 1.0\n",
            "cos 0  is 0.0\n",
            "tan 0  is 0.0\n",
            "0.2\n",
            "sin 0.2  is 0.9800665778412416\n",
            "cos 0.2  is 0.19866933079506122\n",
            "tan 0.2  is 0.2027100355086725\n",
            "0.4\n",
            "sin 0.4  is 0.9210609940028851\n",
            "cos 0.4  is 0.3894183423086505\n",
            "tan 0.4  is 0.4227932187381618\n",
            "0.6000000000000001\n",
            "sin 0.6000000000000001  is 0.8253356149096782\n",
            "cos 0.6000000000000001  is 0.5646424733950355\n",
            "tan 0.6000000000000001  is 0.6841368083416924\n",
            "0.8\n",
            "sin 0.8  is 0.6967067093471654\n",
            "cos 0.8  is 0.7173560908995228\n",
            "tan 0.8  is 1.0296385570503641\n",
            "1.0\n",
            "sin 1.0  is 0.5403023058681398\n",
            "cos 1.0  is 0.8414709848078965\n",
            "tan 1.0  is 1.5574077246549023\n",
            "1.2\n",
            "sin 1.2  is 0.3623577544766736\n",
            "cos 1.2  is 0.9320390859672263\n",
            "tan 1.2  is 2.5721516221263188\n",
            "1.4\n",
            "sin 1.4  is 0.16996714290024104\n",
            "cos 1.4  is 0.9854497299884601\n",
            "tan 1.4  is 5.797883715482887\n",
            "1.5999999999999999\n",
            "sin 1.5999999999999999  is -0.029199522301288593\n",
            "cos 1.5999999999999999  is 0.9995736030415052\n",
            "tan 1.5999999999999999  is -34.23253273555758\n",
            "1.7999999999999998\n",
            "sin 1.7999999999999998  is -0.2272020946930869\n",
            "cos 1.7999999999999998  is 0.9738476308781953\n",
            "tan 1.7999999999999998  is -4.286261674628067\n",
            "1.9999999999999998\n",
            "sin 1.9999999999999998  is -0.4161468365471422\n",
            "cos 1.9999999999999998  is 0.9092974268256818\n",
            "tan 1.9999999999999998  is -2.18503986326152\n",
            "2.1999999999999997\n",
            "sin 2.1999999999999997  is -0.5885011172553455\n",
            "cos 2.1999999999999997  is 0.8084964038195903\n",
            "tan 2.1999999999999997  is -1.373823056768796\n",
            "2.4\n",
            "sin 2.4  is -0.7373937155412454\n",
            "cos 2.4  is 0.675463180551151\n",
            "tan 2.4  is -0.9160142896734107\n",
            "2.6\n",
            "sin 2.6  is -0.8568887533689473\n",
            "cos 2.6  is 0.5155013718214642\n",
            "tan 2.6  is -0.6015966130897586\n",
            "2.8000000000000003\n",
            "sin 2.8000000000000003  is -0.9422223406686583\n",
            "cos 2.8000000000000003  is 0.33498815015590466\n",
            "tan 2.8000000000000003  is -0.3555298316511756\n",
            "3.0000000000000004\n",
            "sin 3.0000000000000004  is -0.9899924966004455\n",
            "cos 3.0000000000000004  is 0.14112000805986677\n",
            "tan 3.0000000000000004  is -0.14254654307427736\n",
            "3.2000000000000006\n",
            "sin 3.2000000000000006  is -0.998294775794753\n",
            "cos 3.2000000000000006  is -0.05837414342758053\n",
            "tan 3.2000000000000006  is 0.05847385445957909\n",
            "3.400000000000001\n",
            "sin 3.400000000000001  is -0.9667981925794608\n",
            "cos 3.400000000000001  is -0.2555411020268321\n",
            "tan 3.400000000000001  is 0.2643169008674261\n",
            "3.600000000000001\n",
            "sin 3.600000000000001  is -0.8967584163341465\n",
            "cos 3.600000000000001  is -0.44252044329485324\n",
            "tan 3.600000000000001  is 0.49346672998490493\n",
            "3.800000000000001\n",
            "sin 3.800000000000001  is -0.790967711914416\n",
            "cos 3.800000000000001  is -0.61185789094272\n",
            "tan 3.800000000000001  is 0.7735560905031279\n",
            "4.000000000000001\n",
            "sin 4.000000000000001  is -0.6536436208636113\n",
            "cos 4.000000000000001  is -0.7568024953079289\n",
            "tan 4.000000000000001  is 1.1578212823495797\n",
            "4.200000000000001\n",
            "sin 4.200000000000001  is -0.49026082134069865\n",
            "cos 4.200000000000001  is -0.8715757724135886\n",
            "tan 4.200000000000001  is 1.7777797745088455\n",
            "4.400000000000001\n",
            "sin 4.400000000000001  is -0.3073328699784185\n",
            "cos 4.400000000000001  is -0.9516020738895163\n",
            "tan 4.400000000000001  is 3.096323780649755\n",
            "4.600000000000001\n",
            "sin 4.600000000000001  is -0.1121525269350531\n",
            "cos 4.600000000000001  is -0.9936910036334646\n",
            "tan 4.600000000000001  is 8.860174895648187\n",
            "4.800000000000002\n",
            "sin 4.800000000000002  is 0.08749898343944816\n",
            "cos 4.800000000000002  is -0.9961646088358406\n",
            "tan 4.800000000000002  is -11.38487065424269\n",
            "5.000000000000002\n",
            "sin 5.000000000000002  is 0.28366218546322797\n",
            "cos 5.000000000000002  is -0.958924274663138\n",
            "tan 5.000000000000002  is -3.3805150062465636\n",
            "5.200000000000002\n",
            "sin 5.200000000000002  is 0.46851667130037866\n",
            "cos 5.200000000000002  is -0.8834546557201524\n",
            "tan 5.200000000000002  is -1.8856418775197559\n",
            "5.400000000000002\n",
            "sin 5.400000000000002  is 0.634692875942636\n",
            "cos 5.400000000000002  is -0.772764487555986\n",
            "tan 5.400000000000002  is -1.2175408246205508\n",
            "5.600000000000002\n",
            "sin 5.600000000000002  is 0.7755658785102513\n",
            "cos 5.600000000000002  is -0.6312666378723195\n",
            "tan 5.600000000000002  is -0.8139432836896983\n",
            "5.8000000000000025\n",
            "sin 5.8000000000000025  is 0.8855195169413201\n",
            "cos 5.8000000000000025  is -0.46460217941375503\n",
            "tan 5.8000000000000025  is -0.5246662219467968\n",
            "6.000000000000003\n",
            "sin 6.000000000000003  is 0.9601702866503667\n",
            "cos 6.000000000000003  is -0.2794154981989233\n",
            "tan 6.000000000000003  is -0.29100619138474626\n",
            "6.200000000000003\n",
            "sin 6.200000000000003  is 0.9965420970232177\n",
            "cos 6.200000000000003  is -0.08308940281749375\n",
            "tan 6.200000000000003  is -0.08337771486592593\n",
            "6.400000000000003\n",
            "sin 6.400000000000003  is 0.9931849187581923\n",
            "cos 6.400000000000003  is 0.11654920485049629\n",
            "tan 6.400000000000003  is 0.1173489474610842\n",
            "6.600000000000003\n",
            "sin 6.600000000000003  is 0.9502325919585285\n",
            "cos 6.600000000000003  is 0.3115413635133812\n",
            "tan 6.600000000000003  is 0.3278580067131374\n",
            "6.800000000000003\n",
            "sin 6.800000000000003  is 0.8693974903498235\n",
            "cos 6.800000000000003  is 0.49411335113861127\n",
            "tan 6.800000000000003  is 0.568339978690061\n",
            "7.0000000000000036\n",
            "sin 7.0000000000000036  is 0.7539022543433023\n",
            "cos 7.0000000000000036  is 0.6569865987187917\n",
            "tan 7.0000000000000036  is 0.871447982724325\n",
            "7.200000000000004\n",
            "sin 7.200000000000004  is 0.6083513145322517\n",
            "cos 7.200000000000004  is 0.7936678638491553\n",
            "tan 7.200000000000004  is 1.3046209400556479\n",
            "7.400000000000004\n",
            "sin 7.400000000000004  is 0.43854732757438714\n",
            "cos 7.400000000000004  is 0.8987080958116285\n",
            "tan 7.400000000000004  is 2.049284169128104\n",
            "7.600000000000004\n",
            "sin 7.600000000000004  is 0.2512598425822514\n",
            "cos 7.600000000000004  is 0.9679196720314874\n",
            "tan 7.600000000000004  is 3.8522656946847094\n",
            "7.800000000000004\n",
            "sin 7.800000000000004  is 0.053955420562645316\n",
            "cos 7.800000000000004  is 0.9985433453746052\n",
            "tan 7.800000000000004  is 18.506821649462253\n",
            "8.000000000000004\n",
            "sin 8.000000000000004  is -0.14550003380861704\n",
            "cos 8.000000000000004  is 0.9893582466233812\n",
            "tan 8.000000000000004  is -6.799711455220211\n",
            "8.200000000000003\n",
            "sin 8.200000000000003  is -0.3391548609838379\n",
            "cos 8.200000000000003  is 0.9407305566797719\n",
            "tan 8.200000000000003  is -2.77374929538339\n",
            "8.400000000000002\n",
            "sin 8.400000000000002  is -0.5192886541166871\n",
            "cos 8.400000000000002  is 0.8545989080882795\n",
            "tan 8.400000000000002  is -1.6457107262278954\n",
            "8.600000000000001\n",
            "sin 8.600000000000001  is -0.6787200473200138\n",
            "cos 8.600000000000001  is 0.7343970978741122\n",
            "tan 8.600000000000001  is -1.0820324237864258\n",
            "8.8\n",
            "sin 8.8  is -0.811093014061656\n",
            "cos 8.8  is 0.5849171928917617\n",
            "tan 8.8  is -0.7211468755756028\n",
            "9.0\n",
            "sin 9.0  is -0.9111302618846769\n",
            "cos 9.0  is 0.4121184852417566\n",
            "tan 9.0  is -0.45231565944180985\n",
            "9.2\n",
            "sin 9.2  is -0.9748436214041636\n",
            "cos 9.2  is 0.22288991410024764\n",
            "tan 9.2  is -0.22864171155902654\n",
            "9.399999999999999\n",
            "sin 9.399999999999999  is -0.9996930420352065\n",
            "cos 9.399999999999999  is 0.02477542545335954\n",
            "tan 9.399999999999999  is -0.024783032802670062\n",
            "9.599999999999998\n",
            "sin 9.599999999999998  is -0.9846878557941273\n",
            "cos 9.599999999999998  is -0.17432678122297787\n",
            "tan 9.599999999999998  is 0.17703760658486795\n",
            "9.799999999999997\n",
            "sin 9.799999999999997  is -0.9304262721047546\n",
            "cos 9.799999999999997  is -0.3664791292519251\n",
            "tan 9.799999999999997  is 0.3938830407517384\n",
            "9.999999999999996\n",
            "sin 9.999999999999996  is -0.8390715290764544\n",
            "cos 9.999999999999996  is -0.5440211108893669\n",
            "tan 9.999999999999996  is 0.6483608274590816\n"
          ]
        }
      ],
      "source": [
        "#4. Write a Python program to produce a table of sins, cosines and tangents. Make a \n",
        "#variable x in range from 0 to 10 in steps of 0.2. For each value of x, print the \n",
        "#value of sin(x), cos(x) and tan(x)\n",
        "\n",
        "x=0\n",
        "while x<10:\n",
        "  import math\n",
        "  print(x)\n",
        "  print(\"sin\",x,\" is\",math.cos(x))\n",
        "  print(\"cos\",x,\" is\",math.sin(x))\n",
        "  print(\"tan\",x,\" is\",math.tan(x))\n",
        "  x+=0.2"
      ]
    },
    {
      "cell_type": "code",
      "execution_count": null,
      "metadata": {
        "colab": {
          "base_uri": "https://localhost:8080/"
        },
        "id": "c6xN9UeDax-E",
        "outputId": "8ffcd379-5527-4647-e76e-d4b2bdc9a40d"
      },
      "outputs": [
        {
          "name": "stdout",
          "output_type": "stream",
          "text": [
            "\n",
            "enter year to check it is leap year or not2014\n",
            "*IT IS NOT A LEAP YEAR*\n"
          ]
        }
      ],
      "source": [
        "#5. Write a program that reads an integer value and prints “leap year” or “not a leap \n",
        "#year”\n",
        "def main():\n",
        "    year=int(input('\\nenter year to check it is leap year or not'))\n",
        "    if (year%4)==0: \n",
        "      print('*IT IS A LEAP YEAR*')\n",
        "    else:\n",
        "      print('*IT IS NOT A LEAP YEAR*')\n",
        "if __name__=='__main__':\n",
        "    main()"
      ]
    },
    {
      "cell_type": "code",
      "execution_count": null,
      "metadata": {
        "colab": {
          "base_uri": "https://localhost:8080/"
        },
        "id": "2msNgr8Jbk1M",
        "outputId": "f008ee63-e58a-4f0c-c67a-97f4a1ad813e"
      },
      "outputs": [
        {
          "name": "stdout",
          "output_type": "stream",
          "text": [
            "what is the shape of bulding? \n",
            "1) Square? \n",
            "2) Rectangle? \n",
            "3) Circle? \n",
            "Enter your choice  : 2\n",
            "Enter Length of the buliding   : 45\n",
            "Enter Breadth of the building  : 87\n",
            "Area of the building is                :   3915\n"
          ]
        }
      ],
      "source": [
        "#6. Write a menu driven program to calculate the area of given building. Accept \n",
        "#suitable inputs and use suitable assertions.\n",
        "def square():\n",
        "    x = int(input(\"Enter a side of the building  : \"))\n",
        "    print(\"Area of building is  : \", x*x)\n",
        "def rectangle():\n",
        "    l = int(input(\"Enter Length of the buliding   : \"))\n",
        "    b = int(input(\"Enter Breadth of the building  : \"))\n",
        "    print(\"Area of the building is                :  \", l*b)\n",
        "def circle():\n",
        "    r = int(input(\"Enter the radius of building   : \"))\n",
        "    print(\"Area of the building is                : \",3.14*(r**2) )\n",
        "\n",
        "print(\"what is the shape of building? \")\n",
        "print(\"1) Square? \")\n",
        "print(\"2) Rectangle? \")\n",
        "print(\"3) Circle? \")\n",
        "choice = int(input(\"Enter your choice  : \"))\n",
        "if choice == 1:\n",
        "    square()\n",
        "elif choice == 2:\n",
        "    rectangle()\n",
        "elif choice == 3:\n",
        "    circle()\n",
        "else:\n",
        "  print(\"Check the options again and retry : \")\n",
        "        "
      ]
    },
    {
      "cell_type": "code",
      "execution_count": null,
      "metadata": {
        "colab": {
          "base_uri": "https://localhost:8080/"
        },
        "id": "NXN_ClWjdNAO",
        "outputId": "306fbc32-6d29-491e-e0b2-3f769c5ae711"
      },
      "outputs": [
        {
          "name": "stdout",
          "output_type": "stream",
          "text": [
            "Enter the number of which u need factorial  : 4\n",
            "The factorial of  4  is  24\n"
          ]
        }
      ],
      "source": [
        "#7. Write a Python function that takes a number as an input from the user and \n",
        "#computes its factorial\n",
        "product = 1\n",
        "n = int(input(\"Enter the number of which u need factorial  : \"))\n",
        "if n<0:\n",
        " print(\"Factorial does not exist for negative number -_- \")\n",
        "elif n==0:\n",
        " print(\"The factorial of 0 is 1\")\n",
        "else:\n",
        "  for i in range(1,n+1):\n",
        "    product = product*i\n",
        "  print(\"The factorial of \",n,\" is \",product)"
      ]
    },
    {
      "cell_type": "code",
      "execution_count": null,
      "metadata": {
        "colab": {
          "base_uri": "https://localhost:8080/"
        },
        "id": "fNnkTwCzhvjx",
        "outputId": "ceb5a74b-95c5-4849-eb05-4e30a2372c8c"
      },
      "outputs": [
        {
          "output_type": "stream",
          "name": "stdout",
          "text": [
            "enter no of term you want till  find fibonnaci series   :  6\n",
            "0 1 1 2 3 5 "
          ]
        }
      ],
      "source": [
        "#8. Write a Python function to generate the Fibonacci sequence till a \n",
        "#“n”th term\n",
        "def Fibonacci_number():\n",
        "    n = int(input(\"enter no of term you want till  find fibonnaci series   :  \"))\n",
        "    first=0\n",
        "    second=1\n",
        "    for i in range(0,n):\n",
        "      print(first,end=\" \")\n",
        "      temp=first\n",
        "      first=second\n",
        "      second=temp+second\n",
        "Fibonacci_number()"
      ]
    },
    {
      "cell_type": "code",
      "execution_count": null,
      "metadata": {
        "colab": {
          "base_uri": "https://localhost:8080/"
        },
        "id": "bvQCtlIaj436",
        "outputId": "60b360a1-1f89-4e3c-c6dd-ffdda424e17f"
      },
      "outputs": [
        {
          "output_type": "stream",
          "name": "stdout",
          "text": [
            "Enter a number  : 456\n",
            "654 is the reverse of  456\n",
            "Enter a number  : 456\n",
            "15 is the sum of digits of  456\n"
          ]
        }
      ],
      "source": [
        "#9. Write a function that takes a number as an input and finds its reverse and \n",
        "#computes the sum of its digits.\n",
        "def reverse_n():\n",
        "    n = int(input(\"Enter a number  : \"))\n",
        "    num=n\n",
        "    reverse=0\n",
        "    while (n>0):\n",
        "        rem = n % 10\n",
        "        reverse = reverse * 10 + rem\n",
        "        n = n // 10\n",
        "    print(reverse, \"is the reverse of \",num)  \n",
        "    \n",
        "      \n",
        "def sum_n():\n",
        "    n = int(input(\"Enter a number  : \"))\n",
        "    num=n\n",
        "    sum =0\n",
        "    while(n > 0):\n",
        "        rem = n % 10\n",
        "        sum = sum + rem\n",
        "        n = n // 10\n",
        "\n",
        "    print(sum, \"is the sum of digits of \",num)\n",
        "\n",
        "reverse_n()\n",
        "sum_n()\n",
        "  \n"
      ]
    },
    {
      "cell_type": "code",
      "source": [
        "5//2"
      ],
      "metadata": {
        "colab": {
          "base_uri": "https://localhost:8080/"
        },
        "id": "GKtUXlkneomO",
        "outputId": "f439b154-8340-40d0-9a9c-2d2edbe200e7"
      },
      "execution_count": null,
      "outputs": [
        {
          "output_type": "execute_result",
          "data": {
            "text/plain": [
              "2"
            ]
          },
          "metadata": {},
          "execution_count": 1
        }
      ]
    },
    {
      "cell_type": "code",
      "execution_count": null,
      "metadata": {
        "colab": {
          "base_uri": "https://localhost:8080/"
        },
        "id": "o1qYnh4CmWJC",
        "outputId": "4050d9db-b3bd-4763-bd76-90f2960a3559"
      },
      "outputs": [
        {
          "output_type": "stream",
          "name": "stdout",
          "text": [
            "Enter first number: 5\n",
            "Enter second number:10\n",
            "The L.C.M. is 10\n"
          ]
        }
      ],
      "source": [
        "#10. Write a function that takes two numbers as input parameters and returns their \n",
        "#least common multiple.\n",
        "def computing_lcm():\n",
        "\n",
        "   n1 = int(input(\"Enter first number: \"))\n",
        "   n2 = int(input(\"Enter second number:\"))\n",
        "   if n1>n2:\n",
        "       higher = n1\n",
        "   else:\n",
        "       higher = n2\n",
        "   value=higher\n",
        "   while(True):\n",
        "       if((higher % n1 == 0) and (higher % n2== 0)):\n",
        "           lcm = higher\n",
        "           break \n",
        "       else:\n",
        "         higher=higher+value\n",
        "\n",
        "   return lcm\n",
        "\n",
        "print(\"The L.C.M. is\", computing_lcm())\n"
      ]
    },
    {
      "cell_type": "code",
      "execution_count": null,
      "metadata": {
        "colab": {
          "base_uri": "https://localhost:8080/"
        },
        "id": "Z9z5jhdDjyYx",
        "outputId": "8d727ed2-3df2-43af-9c62-8672e4923a57"
      },
      "outputs": [
        {
          "output_type": "stream",
          "name": "stdout",
          "text": [
            "enter a number:11\n",
            "It is prime\n"
          ]
        }
      ],
      "source": [
        "#write a function that takes a number as an input and determine whether it is \n",
        "#prime or not\n",
        "n=int(input(\"enter a number:\"))\n",
        "if n==1:\n",
        "  print(\"It is not prime\")\n",
        "elif n>1:\n",
        "  for i in range(2,n):\n",
        "    if (n%i)==0:\n",
        "       print(\"It is composite\")\n",
        "       break\n",
        "    else:\n",
        "      print(\"It is prime\")\n",
        "      break\n",
        "else:\n",
        "     print(\"invalid input\")\n"
      ]
    },
    {
      "cell_type": "code",
      "execution_count": null,
      "metadata": {
        "colab": {
          "base_uri": "https://localhost:8080/"
        },
        "id": "7JOaKNBJunSt",
        "outputId": "810a195a-abcf-49c3-f230-00edf51e7e27"
      },
      "outputs": [
        {
          "name": "stdout",
          "output_type": "stream",
          "text": [
            "Enter the term 6\n",
            "term =  6 , sum till this step =  9\n",
            "Enter the term 6\n",
            "term =  6 , sum till this step =  12\n",
            "Enter the number: 5\n"
          ]
        },
        {
          "output_type": "execute_result",
          "data": {
            "text/plain": [
              "15.0"
            ]
          },
          "metadata": {},
          "execution_count": 44
        }
      ],
      "source": [
        "#12. Write a function that finds the sum of the \n",
        "#a) first n odd terms \n",
        "#b) first n even terms\n",
        "#c) 1, 2, 3,4,5,6,7,8,9,.. till n-term\n",
        "def odd():\n",
        "    sum = 0\n",
        "    n = int(input(\"Enter the term \"))\n",
        "    for i in range (1,n+1):\n",
        "        if i%2 == 1 :\n",
        "            sum += i\n",
        "        else:\n",
        "            continue\n",
        "    return(print(\"term = \",i,\", sum till this step = \", sum ))\n",
        "odd()\n",
        "def even():\n",
        "    sum = 0\n",
        "    n = int(input(\"Enter the term \"))\n",
        "    for i in range (1,n+1):\n",
        "        if i%2 == 0 :\n",
        "            sum += i\n",
        "        else:\n",
        "            continue\n",
        "    return(print(\"term = \",i,\", sum till this step = \", sum ))\n",
        "even()\n",
        "def sum_natural():\n",
        "  num=int(input(\"Enter the number: \"))\n",
        "  sum=num*(num+1)\n",
        "  result=sum/2\n",
        "  return(result)\n",
        "sum_natural()\n",
        "\n",
        "\n",
        " "
      ]
    },
    {
      "cell_type": "code",
      "source": [
        "#13. Write a Python function that takes a string as an input from the user and \n",
        "#determines whether it is palindrome or not.\n",
        "word=input(\"Enter the word: \")\n",
        "reverse=word[::-1]\n",
        "if (word==reverse):\n",
        "  print(\"The given input is palindrome\")\n",
        "else:\n",
        "  print(\"The given input is not palindrome\")\n"
      ],
      "metadata": {
        "colab": {
          "base_uri": "https://localhost:8080/"
        },
        "id": "wQ7NpOsggESv",
        "outputId": "a45b4c6d-a67f-46a2-f9fc-0c9b11f640eb"
      },
      "execution_count": null,
      "outputs": [
        {
          "output_type": "stream",
          "name": "stdout",
          "text": [
            "Enter the word: madam\n",
            "The given input is palindrome\n"
          ]
        }
      ]
    },
    {
      "cell_type": "code",
      "source": [
        "#14. Write a function that takes a sentence as input from the user and calculates the \n",
        "#frequency of each letter. Use a variable of dictionary type to maintain the count\n",
        "sent=input(\"Enter the sentence: \")\n",
        "d1=dict()\n",
        "for i in sent:\n",
        "  if i in d1:\n",
        "    d1[i]=d1[i]+1\n",
        "  else:\n",
        "    d1[i]=1\n",
        "print(d1)\n"
      ],
      "metadata": {
        "colab": {
          "base_uri": "https://localhost:8080/"
        },
        "id": "NQri0XtIkD5D",
        "outputId": "a7d0ae71-edd9-45a1-f5fc-e2d1cbc7feae"
      },
      "execution_count": null,
      "outputs": [
        {
          "output_type": "stream",
          "name": "stdout",
          "text": [
            "Enter the sentence: I am learning python\n",
            "{'I': 1, ' ': 3, 'a': 2, 'm': 1, 'l': 1, 'e': 1, 'r': 1, 'n': 3, 'i': 1, 'g': 1, 'p': 1, 'y': 1, 't': 1, 'h': 1, 'o': 1}\n"
          ]
        }
      ]
    },
    {
      "cell_type": "code",
      "source": [
        "#15. Write a Python function that prints a dictionary where the keys are numbers \n",
        "#between 1 and 5 and the values are cubes of the keys.\n",
        "dict_1=dict()\n",
        "for i in range(1,6):\n",
        "  dict_1[i]=i**3\n",
        "print(dict_1)\n"
      ],
      "metadata": {
        "colab": {
          "base_uri": "https://localhost:8080/"
        },
        "id": "VwPrmhLOnUoe",
        "outputId": "89e2135a-16ee-42b8-d97b-d597f1687ce5"
      },
      "execution_count": null,
      "outputs": [
        {
          "output_type": "stream",
          "name": "stdout",
          "text": [
            "{1: 1, 2: 8, 3: 27, 4: 64, 5: 125}\n"
          ]
        }
      ]
    },
    {
      "cell_type": "code",
      "source": [
        "#16. Consider a tuple t1=(1,2,5,7,9,2,4,6,8,10). Write a program to perform following \n",
        "#operations:\n",
        "#a. Print half the values of tuple in one line and the other half in the next line.\n",
        "#b. Print another tuple whose values are even numbers in the given tuple.\n",
        "#c. Concatenate a tuple t2=(11,13,15) witht1.\n",
        "#d. Return maximum and minimum value from this tuple\n",
        "t1=(1,2,5,7,9,2,4,6,8,10)\n",
        "a=t1[0:5]\n",
        "b=t1[5:11]\n",
        "print(a)\n",
        "print(b)\n",
        "#b\n",
        "t2=()\n",
        "for i in t1:\n",
        "  if i %2==0:\n",
        "    list_1=list(t2)\n",
        "    list_1.append(i)\n",
        "    new=tuple(list_1)\n",
        "  else:\n",
        "    continue\n",
        "print(new)\n",
        "#c\n",
        "t2=(11,13,15)\n",
        "print(t1+t2)\n",
        "#d\n",
        "a=min(t1)\n",
        "b=max(t1)\n",
        "print(\"The min value is \",a)\n",
        "print(\"The max value is \",b)"
      ],
      "metadata": {
        "colab": {
          "base_uri": "https://localhost:8080/"
        },
        "id": "vKr16eGgqJkf",
        "outputId": "8f78f5dc-597c-4d4c-e80f-f60a2731f414"
      },
      "execution_count": null,
      "outputs": [
        {
          "output_type": "stream",
          "name": "stdout",
          "text": [
            "(1, 2, 5, 7, 9)\n",
            "(2, 4, 6, 8, 10)\n",
            "(10,)\n",
            "(1, 2, 5, 7, 9, 2, 4, 6, 8, 10, 11, 13, 15)\n",
            "The min value is  1\n",
            "The max value is  10\n"
          ]
        }
      ]
    },
    {
      "cell_type": "code",
      "source": [
        "#17. Write a function called “check_duplicates” that takes a list and returns true if \n",
        "#there is any element that appears more than once. Also find the frequency of that \n",
        "#element. The original list should not be modified.\n",
        "def check_duplicates():\n",
        "  list1=input(\"Enter a list:\")\n",
        "  list2=[]\n",
        "  \n",
        "  for n in list1:\n",
        "    if n in list2:\n",
        "      print(\"true\")\n",
        "      list2.append(n)\n",
        "      a=list2.count(n)\n",
        "      print(n,\" is present in list \",a ,\"times\")\n",
        "    else :\n",
        "       list2.append(n)\n",
        "      \n",
        "check_duplicates()\n",
        "      \n",
        "  \n"
      ],
      "metadata": {
        "colab": {
          "base_uri": "https://localhost:8080/"
        },
        "id": "CyF19hh3t05A",
        "outputId": "3d3614c9-3727-48d8-b386-64a010a7ccf0"
      },
      "execution_count": null,
      "outputs": [
        {
          "output_type": "stream",
          "name": "stdout",
          "text": [
            "Enter a list:[6,8,4,6,4]\n",
            "true\n",
            ",  is present in list  2 times\n",
            "true\n",
            ",  is present in list  3 times\n",
            "true\n",
            "6  is present in list  2 times\n",
            "true\n",
            ",  is present in list  4 times\n",
            "true\n",
            "4  is present in list  2 times\n"
          ]
        }
      ]
    },
    {
      "cell_type": "code",
      "source": [
        "#19. Write a menu driven program to perform the following functions on strings:\n",
        "#a. Find the length of string\n",
        "#b.return max of three strings\n",
        "#c. Accept a string and replace every successive character with ‘#’ Example\u0002For Given string ‘Hello World’ returned string is ‘H#l#o W#r#d’.\n",
        "#d. Find number of words in the given string\n",
        "str_1=input(\"Enter the string: \")\n",
        "length=len(str_1)\n",
        "print(length)\n",
        "new\n",
        "for i in str_1:\n",
        "  if a%2==0 in str_1[a]:\n",
        "    print(\"#\")\n"
      ],
      "metadata": {
        "colab": {
          "base_uri": "https://localhost:8080/"
        },
        "id": "xn1kPzbm0ddV",
        "outputId": "0a7f036c-98b3-41f7-cc49-efb7576a4959"
      },
      "execution_count": null,
      "outputs": [
        {
          "output_type": "stream",
          "name": "stdout",
          "text": [
            "Enter the string: run\n",
            "3\n"
          ]
        }
      ]
    },
    {
      "cell_type": "code",
      "source": [
        "#20. Write a Python program to perform the following using list:\n",
        "#a. Check if all elements in list are numbers or not\n",
        "#b. If it is a numeric list, then count number of odd values in it\n",
        "#c. If list contains all Strings, then display largest String in the list\n",
        "list1=[5,4,3,1,5]\n",
        "for i in list1:\n",
        "  if type(i)==int or type(i)==float:\n",
        "    #print(\"All elements are numeric\")\n",
        "    continue\n",
        "  else:\n",
        "    print(\"All elements are not numeric\")\n",
        "    break\n",
        "\n",
        "list2=[]\n",
        "for i in list1:\n",
        "  if i%2==0:\n",
        "    continue\n",
        "  else:\n",
        "    list2.append(i)\n",
        "print(list2)\n",
        "a=len(list2)\n",
        "print(\"The num of odd values in list1 is \",a)\n",
        "\n"
      ],
      "metadata": {
        "colab": {
          "base_uri": "https://localhost:8080/",
          "height": 270
        },
        "id": "921h_TW74W-2",
        "outputId": "689752d7-176f-4557-f75b-c0152d75c8c5"
      },
      "execution_count": null,
      "outputs": [
        {
          "output_type": "stream",
          "name": "stdout",
          "text": [
            "All elements are not numeric\n",
            "All elements are numeric\n"
          ]
        },
        {
          "output_type": "error",
          "ename": "TypeError",
          "evalue": "ignored",
          "traceback": [
            "\u001b[0;31m---------------------------------------------------------------------------\u001b[0m",
            "\u001b[0;31mTypeError\u001b[0m                                 Traceback (most recent call last)",
            "\u001b[0;32m<ipython-input-63-4da3b9adbf24>\u001b[0m in \u001b[0;36m<module>\u001b[0;34m()\u001b[0m\n\u001b[1;32m     14\u001b[0m \u001b[0mlist2\u001b[0m\u001b[0;34m=\u001b[0m\u001b[0;34m[\u001b[0m\u001b[0;34m]\u001b[0m\u001b[0;34m\u001b[0m\u001b[0;34m\u001b[0m\u001b[0m\n\u001b[1;32m     15\u001b[0m \u001b[0;32mfor\u001b[0m \u001b[0mi\u001b[0m \u001b[0;32min\u001b[0m \u001b[0mlist1\u001b[0m\u001b[0;34m:\u001b[0m\u001b[0;34m\u001b[0m\u001b[0;34m\u001b[0m\u001b[0m\n\u001b[0;32m---> 16\u001b[0;31m   \u001b[0;32mif\u001b[0m \u001b[0mi\u001b[0m\u001b[0;34m%\u001b[0m\u001b[0;36m2\u001b[0m\u001b[0;34m==\u001b[0m\u001b[0;36m0\u001b[0m\u001b[0;34m:\u001b[0m\u001b[0;34m\u001b[0m\u001b[0;34m\u001b[0m\u001b[0m\n\u001b[0m\u001b[1;32m     17\u001b[0m     \u001b[0;32mcontinue\u001b[0m\u001b[0;34m\u001b[0m\u001b[0;34m\u001b[0m\u001b[0m\n\u001b[1;32m     18\u001b[0m   \u001b[0;32melse\u001b[0m\u001b[0;34m:\u001b[0m\u001b[0;34m\u001b[0m\u001b[0;34m\u001b[0m\u001b[0m\n",
            "\u001b[0;31mTypeError\u001b[0m: not all arguments converted during string formatting"
          ]
        }
      ]
    },
    {
      "cell_type": "code",
      "source": [
        "#d. Display list in reverse form\n",
        "#e. Find a specified element in list\n",
        "#f. Remove the specified element\n",
        "new=list1[::-1]\n",
        "print(new)\n",
        "a=int(input(\"Enter the num you want to find\"))\n",
        "print(list1.index(a))\n",
        "b=int(input(\"Enter the num you want to remove\"))\n",
        "list1.remove(b)\n",
        "print(list1)"
      ],
      "metadata": {
        "colab": {
          "base_uri": "https://localhost:8080/"
        },
        "id": "ZAruNxIS90x1",
        "outputId": "aef8d55c-c7d7-464f-92c1-e1de1ef48827"
      },
      "execution_count": null,
      "outputs": [
        {
          "output_type": "stream",
          "name": "stdout",
          "text": [
            "[5, 1, 3, 4]\n",
            "1\n",
            "[4, 3, 1]\n"
          ]
        }
      ]
    }
  ],
  "metadata": {
    "colab": {
      "name": "Practicals.ipynb",
      "provenance": [],
      "authorship_tag": "ABX9TyO0btdiQdkP2f0y89Qercia",
      "include_colab_link": true
    },
    "kernelspec": {
      "display_name": "Python 3",
      "name": "python3"
    },
    "language_info": {
      "name": "python"
    }
  },
  "nbformat": 4,
  "nbformat_minor": 0
}